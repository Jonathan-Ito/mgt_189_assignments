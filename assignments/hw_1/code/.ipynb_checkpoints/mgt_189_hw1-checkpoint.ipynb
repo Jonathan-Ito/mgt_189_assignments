{
 "cells": [
  {
   "cell_type": "markdown",
   "id": "d8d0cf58-0bc2-47e3-b7c5-691a7a2f65fe",
   "metadata": {},
   "source": [
    "i made this wooooo"
   ]
  }
 ],
 "metadata": {
  "kernelspec": {
   "display_name": "Python MGT 189",
   "language": "python",
   "name": "mgt189"
  },
  "language_info": {
   "codemirror_mode": {
    "name": "ipython",
    "version": 3
   },
   "file_extension": ".py",
   "mimetype": "text/x-python",
   "name": "python",
   "nbconvert_exporter": "python",
   "pygments_lexer": "ipython3",
   "version": "3.13.1"
  }
 },
 "nbformat": 4,
 "nbformat_minor": 5
}
